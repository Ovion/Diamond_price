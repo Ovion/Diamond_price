{
 "cells": [
  {
   "cell_type": "code",
   "execution_count": 1,
   "metadata": {},
   "outputs": [],
   "source": [
    "import pandas as pd\n",
    "from sklearn.model_selection import train_test_split\n",
    "from sklearn.metrics import mean_squared_error\n",
    "\n",
    "from sklearn.linear_model import LinearRegression\n",
    "\n",
    "from sklearn.ensemble import RandomForestRegressor\n",
    "\n",
    "from sklearn.linear_model import LogisticRegression\n",
    "\n",
    "from sklearn.linear_model import BayesianRidge\n",
    "\n",
    "from sklearn.neural_network import MLPRegressor\n",
    "\n",
    "from sklearn.svm import SVR\n"
   ]
  },
  {
   "cell_type": "code",
   "execution_count": 2,
   "metadata": {},
   "outputs": [],
   "source": [
    "data = pd.read_csv('../../input/clean_data.csv')"
   ]
  },
  {
   "cell_type": "code",
   "execution_count": 3,
   "metadata": {},
   "outputs": [
    {
     "data": {
      "text/html": [
       "<div>\n",
       "<style scoped>\n",
       "    .dataframe tbody tr th:only-of-type {\n",
       "        vertical-align: middle;\n",
       "    }\n",
       "\n",
       "    .dataframe tbody tr th {\n",
       "        vertical-align: top;\n",
       "    }\n",
       "\n",
       "    .dataframe thead th {\n",
       "        text-align: right;\n",
       "    }\n",
       "</style>\n",
       "<table border=\"1\" class=\"dataframe\">\n",
       "  <thead>\n",
       "    <tr style=\"text-align: right;\">\n",
       "      <th></th>\n",
       "      <th>carat</th>\n",
       "      <th>price</th>\n",
       "      <th>magic</th>\n",
       "      <th>cut_Fair</th>\n",
       "      <th>cut_Good</th>\n",
       "      <th>cut_Ideal</th>\n",
       "      <th>cut_Premium</th>\n",
       "      <th>cut_Very Good</th>\n",
       "      <th>color_D</th>\n",
       "      <th>color_E</th>\n",
       "      <th>...</th>\n",
       "      <th>color_I</th>\n",
       "      <th>color_J</th>\n",
       "      <th>clarity_I1</th>\n",
       "      <th>clarity_IF</th>\n",
       "      <th>clarity_SI1</th>\n",
       "      <th>clarity_SI2</th>\n",
       "      <th>clarity_VS1</th>\n",
       "      <th>clarity_VS2</th>\n",
       "      <th>clarity_VVS1</th>\n",
       "      <th>clarity_VVS2</th>\n",
       "    </tr>\n",
       "  </thead>\n",
       "  <tbody>\n",
       "    <tr>\n",
       "      <th>0</th>\n",
       "      <td>3.081321</td>\n",
       "      <td>12831</td>\n",
       "      <td>-0.290934</td>\n",
       "      <td>-0.173938</td>\n",
       "      <td>-0.314915</td>\n",
       "      <td>1.227461</td>\n",
       "      <td>-0.587370</td>\n",
       "      <td>-0.538763</td>\n",
       "      <td>-0.3775</td>\n",
       "      <td>-0.470917</td>\n",
       "      <td>...</td>\n",
       "      <td>-0.333356</td>\n",
       "      <td>-0.234871</td>\n",
       "      <td>-0.118155</td>\n",
       "      <td>-0.186229</td>\n",
       "      <td>-0.564152</td>\n",
       "      <td>2.203499</td>\n",
       "      <td>-0.423692</td>\n",
       "      <td>-0.540520</td>\n",
       "      <td>-0.269537</td>\n",
       "      <td>-0.323005</td>\n",
       "    </tr>\n",
       "    <tr>\n",
       "      <th>1</th>\n",
       "      <td>3.439708</td>\n",
       "      <td>16170</td>\n",
       "      <td>-0.290934</td>\n",
       "      <td>-0.173938</td>\n",
       "      <td>-0.314915</td>\n",
       "      <td>-0.814690</td>\n",
       "      <td>-0.587370</td>\n",
       "      <td>1.856102</td>\n",
       "      <td>-0.3775</td>\n",
       "      <td>-0.470917</td>\n",
       "      <td>...</td>\n",
       "      <td>-0.333356</td>\n",
       "      <td>-0.234871</td>\n",
       "      <td>-0.118155</td>\n",
       "      <td>-0.186229</td>\n",
       "      <td>-0.564152</td>\n",
       "      <td>2.203499</td>\n",
       "      <td>-0.423692</td>\n",
       "      <td>-0.540520</td>\n",
       "      <td>-0.269537</td>\n",
       "      <td>-0.323005</td>\n",
       "    </tr>\n",
       "    <tr>\n",
       "      <th>2</th>\n",
       "      <td>0.003405</td>\n",
       "      <td>2797</td>\n",
       "      <td>-0.290934</td>\n",
       "      <td>-0.173938</td>\n",
       "      <td>-0.314915</td>\n",
       "      <td>-0.814690</td>\n",
       "      <td>1.702506</td>\n",
       "      <td>-0.538763</td>\n",
       "      <td>-0.3775</td>\n",
       "      <td>-0.470917</td>\n",
       "      <td>...</td>\n",
       "      <td>-0.333356</td>\n",
       "      <td>-0.234871</td>\n",
       "      <td>-0.118155</td>\n",
       "      <td>-0.186229</td>\n",
       "      <td>-0.564152</td>\n",
       "      <td>2.203499</td>\n",
       "      <td>-0.423692</td>\n",
       "      <td>-0.540520</td>\n",
       "      <td>-0.269537</td>\n",
       "      <td>-0.323005</td>\n",
       "    </tr>\n",
       "    <tr>\n",
       "      <th>3</th>\n",
       "      <td>-0.839859</td>\n",
       "      <td>630</td>\n",
       "      <td>-0.290934</td>\n",
       "      <td>-0.173938</td>\n",
       "      <td>-0.314915</td>\n",
       "      <td>1.227461</td>\n",
       "      <td>-0.587370</td>\n",
       "      <td>-0.538763</td>\n",
       "      <td>-0.3775</td>\n",
       "      <td>-0.470917</td>\n",
       "      <td>...</td>\n",
       "      <td>-0.333356</td>\n",
       "      <td>-0.234871</td>\n",
       "      <td>8.463460</td>\n",
       "      <td>-0.186229</td>\n",
       "      <td>-0.564152</td>\n",
       "      <td>-0.453824</td>\n",
       "      <td>-0.423692</td>\n",
       "      <td>-0.540520</td>\n",
       "      <td>-0.269537</td>\n",
       "      <td>-0.323005</td>\n",
       "    </tr>\n",
       "    <tr>\n",
       "      <th>4</th>\n",
       "      <td>-1.029593</td>\n",
       "      <td>698</td>\n",
       "      <td>-0.290934</td>\n",
       "      <td>-0.173938</td>\n",
       "      <td>-0.314915</td>\n",
       "      <td>1.227461</td>\n",
       "      <td>-0.587370</td>\n",
       "      <td>-0.538763</td>\n",
       "      <td>-0.3775</td>\n",
       "      <td>-0.470917</td>\n",
       "      <td>...</td>\n",
       "      <td>-0.333356</td>\n",
       "      <td>-0.234871</td>\n",
       "      <td>-0.118155</td>\n",
       "      <td>-0.186229</td>\n",
       "      <td>-0.564152</td>\n",
       "      <td>-0.453824</td>\n",
       "      <td>-0.423692</td>\n",
       "      <td>1.850071</td>\n",
       "      <td>-0.269537</td>\n",
       "      <td>-0.323005</td>\n",
       "    </tr>\n",
       "  </tbody>\n",
       "</table>\n",
       "<p>5 rows × 23 columns</p>\n",
       "</div>"
      ],
      "text/plain": [
       "      carat  price     magic  cut_Fair  cut_Good  cut_Ideal  cut_Premium  \\\n",
       "0  3.081321  12831 -0.290934 -0.173938 -0.314915   1.227461    -0.587370   \n",
       "1  3.439708  16170 -0.290934 -0.173938 -0.314915  -0.814690    -0.587370   \n",
       "2  0.003405   2797 -0.290934 -0.173938 -0.314915  -0.814690     1.702506   \n",
       "3 -0.839859    630 -0.290934 -0.173938 -0.314915   1.227461    -0.587370   \n",
       "4 -1.029593    698 -0.290934 -0.173938 -0.314915   1.227461    -0.587370   \n",
       "\n",
       "   cut_Very Good  color_D   color_E  ...   color_I   color_J  clarity_I1  \\\n",
       "0      -0.538763  -0.3775 -0.470917  ... -0.333356 -0.234871   -0.118155   \n",
       "1       1.856102  -0.3775 -0.470917  ... -0.333356 -0.234871   -0.118155   \n",
       "2      -0.538763  -0.3775 -0.470917  ... -0.333356 -0.234871   -0.118155   \n",
       "3      -0.538763  -0.3775 -0.470917  ... -0.333356 -0.234871    8.463460   \n",
       "4      -0.538763  -0.3775 -0.470917  ... -0.333356 -0.234871   -0.118155   \n",
       "\n",
       "   clarity_IF  clarity_SI1  clarity_SI2  clarity_VS1  clarity_VS2  \\\n",
       "0   -0.186229    -0.564152     2.203499    -0.423692    -0.540520   \n",
       "1   -0.186229    -0.564152     2.203499    -0.423692    -0.540520   \n",
       "2   -0.186229    -0.564152     2.203499    -0.423692    -0.540520   \n",
       "3   -0.186229    -0.564152    -0.453824    -0.423692    -0.540520   \n",
       "4   -0.186229    -0.564152    -0.453824    -0.423692     1.850071   \n",
       "\n",
       "   clarity_VVS1  clarity_VVS2  \n",
       "0     -0.269537     -0.323005  \n",
       "1     -0.269537     -0.323005  \n",
       "2     -0.269537     -0.323005  \n",
       "3     -0.269537     -0.323005  \n",
       "4     -0.269537     -0.323005  \n",
       "\n",
       "[5 rows x 23 columns]"
      ]
     },
     "execution_count": 3,
     "metadata": {},
     "output_type": "execute_result"
    }
   ],
   "source": [
    "data.head()"
   ]
  },
  {
   "cell_type": "code",
   "execution_count": 4,
   "metadata": {},
   "outputs": [],
   "source": [
    "X = data.drop(['price'], axis = 1)\n",
    "y = data.price"
   ]
  },
  {
   "cell_type": "code",
   "execution_count": 5,
   "metadata": {},
   "outputs": [],
   "source": [
    "X_train, X_test, y_train, y_test = train_test_split(X, y, test_size=0.2)"
   ]
  },
  {
   "cell_type": "code",
   "execution_count": 7,
   "metadata": {},
   "outputs": [
    {
     "name": "stdout",
     "output_type": "stream",
     "text": [
      "RMSE:  1380525.6533961184\n",
      "params:  <bound method BaseEstimator.get_params of LinearRegression(copy_X=True, fit_intercept=True, n_jobs=None, normalize=False)>\n"
     ]
    }
   ],
   "source": [
    "LR = LinearRegression()\n",
    "LR.fit(X_train, y_train)\n",
    "y_pred = LR.predict (X_test)\n",
    "rmse = mean_squared_error (y_test, y_pred)\n",
    "print ('RMSE: ', rmse)\n",
    "print ('params: ', LR.get_params)\n"
   ]
  },
  {
   "cell_type": "code",
   "execution_count": null,
   "metadata": {},
   "outputs": [],
   "source": []
  },
  {
   "cell_type": "code",
   "execution_count": 8,
   "metadata": {},
   "outputs": [
    {
     "name": "stderr",
     "output_type": "stream",
     "text": [
      "/home/ovi/.local/lib/python3.7/site-packages/sklearn/ensemble/forest.py:245: FutureWarning: The default value of n_estimators will change from 10 in version 0.20 to 100 in 0.22.\n",
      "  \"10 in version 0.20 to 100 in 0.22.\", FutureWarning)\n"
     ]
    },
    {
     "name": "stdout",
     "output_type": "stream",
     "text": [
      "RMSE:  339836.9113417251\n",
      "params:  <bound method BaseEstimator.get_params of RandomForestRegressor(bootstrap=True, criterion='mse', max_depth=None,\n",
      "                      max_features='auto', max_leaf_nodes=None,\n",
      "                      min_impurity_decrease=0.0, min_impurity_split=None,\n",
      "                      min_samples_leaf=1, min_samples_split=2,\n",
      "                      min_weight_fraction_leaf=0.0, n_estimators=10,\n",
      "                      n_jobs=None, oob_score=False, random_state=None,\n",
      "                      verbose=0, warm_start=False)>\n"
     ]
    }
   ],
   "source": [
    "RFR = RandomForestRegressor()\n",
    "RFR.fit(X_train, y_train)\n",
    "y_pred = RFR.predict (X_test)\n",
    "rmse = mean_squared_error (y_test, y_pred)\n",
    "print ('RMSE: ', rmse)\n",
    "print ('params: ', RFR.get_params)"
   ]
  },
  {
   "cell_type": "code",
   "execution_count": null,
   "metadata": {},
   "outputs": [],
   "source": []
  },
  {
   "cell_type": "code",
   "execution_count": null,
   "metadata": {},
   "outputs": [
    {
     "name": "stderr",
     "output_type": "stream",
     "text": [
      "/home/ovi/.local/lib/python3.7/site-packages/sklearn/linear_model/logistic.py:432: FutureWarning: Default solver will be changed to 'lbfgs' in 0.22. Specify a solver to silence this warning.\n",
      "  FutureWarning)\n",
      "/home/ovi/.local/lib/python3.7/site-packages/sklearn/linear_model/logistic.py:469: FutureWarning: Default multi_class will be changed to 'auto' in 0.22. Specify the multi_class option to silence this warning.\n",
      "  \"this warning.\", FutureWarning)\n"
     ]
    }
   ],
   "source": [
    "# LogR = LogisticRegression()\n",
    "# LogR.fit(X_train, y_train)\n",
    "# y_pred = LogR.predict (X_test)\n",
    "# rmse = mean_squared_error (y_test, y_pred)\n",
    "# print ('RMSE: ', rmse)\n",
    "# print ('params: ', LogR.get_params)"
   ]
  },
  {
   "cell_type": "code",
   "execution_count": null,
   "metadata": {},
   "outputs": [],
   "source": []
  },
  {
   "cell_type": "code",
   "execution_count": 9,
   "metadata": {},
   "outputs": [
    {
     "name": "stdout",
     "output_type": "stream",
     "text": [
      "RMSE:  1379926.1139874484\n",
      "params:  <bound method BaseEstimator.get_params of BayesianRidge(alpha_1=1e-06, alpha_2=1e-06, compute_score=False, copy_X=True,\n",
      "              fit_intercept=True, lambda_1=1e-06, lambda_2=1e-06, n_iter=300,\n",
      "              normalize=False, tol=0.001, verbose=False)>\n"
     ]
    }
   ],
   "source": [
    "BR = BayesianRidge()\n",
    "BR.fit(X_train, y_train)\n",
    "y_pred = BR.predict (X_test)\n",
    "rmse = mean_squared_error (y_test, y_pred)\n",
    "print ('RMSE: ', rmse)\n",
    "print ('params: ', BR.get_params)"
   ]
  },
  {
   "cell_type": "code",
   "execution_count": null,
   "metadata": {},
   "outputs": [],
   "source": []
  },
  {
   "cell_type": "code",
   "execution_count": 10,
   "metadata": {},
   "outputs": [
    {
     "name": "stdout",
     "output_type": "stream",
     "text": [
      "RMSE:  452349.2715289378\n",
      "params:  <bound method BaseEstimator.get_params of MLPRegressor(activation='relu', alpha=0.0001, batch_size='auto', beta_1=0.9,\n",
      "             beta_2=0.999, early_stopping=False, epsilon=1e-08,\n",
      "             hidden_layer_sizes=(100,), learning_rate='constant',\n",
      "             learning_rate_init=0.001, max_iter=200, momentum=0.9,\n",
      "             n_iter_no_change=10, nesterovs_momentum=True, power_t=0.5,\n",
      "             random_state=None, shuffle=True, solver='adam', tol=0.0001,\n",
      "             validation_fraction=0.1, verbose=False, warm_start=False)>\n"
     ]
    },
    {
     "name": "stderr",
     "output_type": "stream",
     "text": [
      "/home/ovi/.local/lib/python3.7/site-packages/sklearn/neural_network/multilayer_perceptron.py:566: ConvergenceWarning: Stochastic Optimizer: Maximum iterations (200) reached and the optimization hasn't converged yet.\n",
      "  % self.max_iter, ConvergenceWarning)\n"
     ]
    }
   ],
   "source": [
    "MLP = MLPRegressor()\n",
    "MLP.fit(X_train, y_train)\n",
    "y_pred = MLP.predict (X_test)\n",
    "rmse = mean_squared_error (y_test, y_pred)\n",
    "print ('RMSE: ', rmse)\n",
    "print ('params: ', MLP.get_params)"
   ]
  },
  {
   "cell_type": "code",
   "execution_count": null,
   "metadata": {},
   "outputs": [],
   "source": []
  },
  {
   "cell_type": "code",
   "execution_count": 11,
   "metadata": {},
   "outputs": [
    {
     "name": "stderr",
     "output_type": "stream",
     "text": [
      "/home/ovi/.local/lib/python3.7/site-packages/sklearn/svm/base.py:193: FutureWarning: The default value of gamma will change from 'auto' to 'scale' in version 0.22 to account better for unscaled features. Set gamma explicitly to 'auto' or 'scale' to avoid this warning.\n",
      "  \"avoid this warning.\", FutureWarning)\n"
     ]
    },
    {
     "name": "stdout",
     "output_type": "stream",
     "text": [
      "RMSE:  15625713.908089168\n",
      "params:  <bound method BaseEstimator.get_params of SVR(C=1.0, cache_size=200, coef0=0.0, degree=3, epsilon=0.1,\n",
      "    gamma='auto_deprecated', kernel='rbf', max_iter=-1, shrinking=True,\n",
      "    tol=0.001, verbose=False)>\n"
     ]
    }
   ],
   "source": [
    "svr = SVR()\n",
    "svr.fit(X_train, y_train)\n",
    "y_pred = svr.predict (X_test)\n",
    "rmse = mean_squared_error (y_test, y_pred)\n",
    "print ('RMSE: ', rmse)\n",
    "print ('params: ', svr.get_params)"
   ]
  },
  {
   "cell_type": "code",
   "execution_count": null,
   "metadata": {},
   "outputs": [],
   "source": []
  }
 ],
 "metadata": {
  "kernelspec": {
   "display_name": "Python 3",
   "language": "python",
   "name": "python3"
  },
  "language_info": {
   "codemirror_mode": {
    "name": "ipython",
    "version": 3
   },
   "file_extension": ".py",
   "mimetype": "text/x-python",
   "name": "python",
   "nbconvert_exporter": "python",
   "pygments_lexer": "ipython3",
   "version": "3.7.5"
  }
 },
 "nbformat": 4,
 "nbformat_minor": 2
}
